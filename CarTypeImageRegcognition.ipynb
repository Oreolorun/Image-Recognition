{
  "nbformat": 4,
  "nbformat_minor": 0,
  "metadata": {
    "colab": {
      "name": "CarTypeImageRegcognition.ipynb",
      "provenance": [],
      "collapsed_sections": [],
      "authorship_tag": "ABX9TyMSBk9tP5uv6KSdBa0wnqvT",
      "include_colab_link": true
    },
    "kernelspec": {
      "name": "python3",
      "display_name": "Python 3"
    },
    "language_info": {
      "name": "python"
    },
    "accelerator": "GPU"
  },
  "cells": [
    {
      "cell_type": "markdown",
      "metadata": {
        "id": "view-in-github",
        "colab_type": "text"
      },
      "source": [
        "<a href=\"https://colab.research.google.com/github/Oreolorun/Image-Recognition/blob/main/CarTypeImageRegcognition.ipynb\" target=\"_parent\"><img src=\"https://colab.research.google.com/assets/colab-badge.svg\" alt=\"Open In Colab\"/></a>"
      ]
    },
    {
      "cell_type": "code",
      "execution_count": 1,
      "metadata": {
        "id": "mdT20fHEUiPO"
      },
      "outputs": [],
      "source": [
        "#  importing libraries \n",
        "import os\n",
        "import numpy as np\n",
        "import torch\n",
        "from torchvision import transforms\n",
        "from torchvision import models\n",
        "import torch.nn as nn\n",
        "from torch.utils.data import DataLoader, Dataset\n",
        "import torch.nn.functional as F\n",
        "from tqdm import tqdm\n",
        "from tqdm.notebook import tqdm as tqdm_notebook\n",
        "import matplotlib.pyplot as plt\n",
        "import cv2\n",
        "import seaborn as sns"
      ]
    },
    {
      "cell_type": "code",
      "source": [
        "#  mounting drive\n",
        "from google.colab import drive\n",
        "drive.mount('/content/gdrive')"
      ],
      "metadata": {
        "colab": {
          "base_uri": "https://localhost:8080/"
        },
        "id": "V3-tSen8XVUd",
        "outputId": "6b760c1f-ff9b-4cec-fc45-5883c20b675d"
      },
      "execution_count": 2,
      "outputs": [
        {
          "output_type": "stream",
          "name": "stdout",
          "text": [
            "Mounted at /content/gdrive\n"
          ]
        }
      ]
    },
    {
      "cell_type": "code",
      "source": [
        "#  configuring device\n",
        "if torch.cuda.is_available():\n",
        "  device = torch.device('cuda:0')\n",
        "  print('Running on the GPU')\n",
        "else:\n",
        "  device = torch.device('cpu')\n",
        "  print('Running on the CPU')"
      ],
      "metadata": {
        "colab": {
          "base_uri": "https://localhost:8080/"
        },
        "id": "Arsdw_TzXfG1",
        "outputId": "d5c3ea57-76fe-4272-ec7f-6aca8e42e8dc"
      },
      "execution_count": 3,
      "outputs": [
        {
          "output_type": "stream",
          "name": "stdout",
          "text": [
            "Running on the GPU\n"
          ]
        }
      ]
    },
    {
      "cell_type": "code",
      "source": [
        "#  loading and labelling data\n",
        "\n",
        "class LoadVehicleData():\n",
        "  def __init__(self):\n",
        "    self.sedans = 'gdrive/My Drive/Datasets/Car_Images/sedans'\n",
        "    self.coupes = 'gdrive/My Drive/Datasets/Car_Images/coupes'\n",
        "    self.suvs = 'gdrive/My Drive/Datasets/Car_Images/suvs'\n",
        "    self.trucks = 'gdrive/My Drive/Datasets/Car_Images/trucks'\n",
        "    self.labels = {self.sedans:0, self.coupes:1, self.suvs:2, self.trucks:3}\n",
        "    self.img_size = 75\n",
        "    self.training_data = []\n",
        "    self.sedan_count = 0\n",
        "    self.coupe_count = 0\n",
        "    self.suv_count = 0\n",
        "    self.truck_count = 0\n",
        "\n",
        "  def create_dataset(self):\n",
        "    for key in self.labels:\n",
        "      print(key)\n",
        "      for img_file in tqdm(os.listdir(key)):\n",
        "        try:\n",
        "          path = os.path.join(key, img_file)\n",
        "          image = cv2.imread(path)\n",
        "          image = cv2.resize(image, (self.img_size, self.img_size))\n",
        "          image = np.array(image)\n",
        "          self.training_data.append([image, int(self.labels[key])])\n",
        "          if key == self.sedans:\n",
        "            self.sedan_count+=1\n",
        "          elif key == self.coupes:\n",
        "            self.coupe_count+=1\n",
        "          elif key == self.suvs:\n",
        "            self.suv_count+=1\n",
        "          elif key == self.trucks:\n",
        "            self.truck_count+=1\n",
        "        except Exception as e:\n",
        "          pass\n",
        "    np.random.shuffle(self.training_data)\n",
        "    np.save('completely_loaded.npy', self.training_data)\n",
        "    print(f'\\nsedan images: {self.sedan_count}')\n",
        "    print(f'coupe images: {self.coupe_count}')\n",
        "    print(f'suv images: {self.suv_count}')\n",
        "    print(f'truck images: {self.truck_count}')\n",
        "    print(f'total: {self.sedan_count + self.coupe_count + self.suv_count + self.truck_count}')\n",
        "    print('All done!')"
      ],
      "metadata": {
        "id": "uKuH73YiYSzw"
      },
      "execution_count": 4,
      "outputs": []
    },
    {
      "cell_type": "code",
      "source": [
        "#  creating an instance of the class LoadVehicleData\n",
        "data = LoadVehicleData()\n",
        "\n",
        "#  creating dataset\n",
        "data.create_dataset()\n",
        "\n",
        "#  loading dataset into object\n",
        "dataset = np.load('completely_loaded.npy', allow_pickle=True)"
      ],
      "metadata": {
        "colab": {
          "base_uri": "https://localhost:8080/"
        },
        "id": "r8DOyPXCaZil",
        "outputId": "fa62161b-30bf-4128-a574-9b7c248908b8"
      },
      "execution_count": 5,
      "outputs": [
        {
          "output_type": "stream",
          "name": "stdout",
          "text": [
            "gdrive/My Drive/Datasets/Car_Images/sedans\n"
          ]
        },
        {
          "output_type": "stream",
          "name": "stderr",
          "text": [
            "100%|██████████| 14324/14324 [04:59<00:00, 47.82it/s] \n"
          ]
        },
        {
          "output_type": "stream",
          "name": "stdout",
          "text": [
            "gdrive/My Drive/Datasets/Car_Images/coupes\n"
          ]
        },
        {
          "output_type": "stream",
          "name": "stderr",
          "text": [
            "100%|██████████| 14488/14488 [04:22<00:00, 55.09it/s] \n"
          ]
        },
        {
          "output_type": "stream",
          "name": "stdout",
          "text": [
            "gdrive/My Drive/Datasets/Car_Images/suvs\n"
          ]
        },
        {
          "output_type": "stream",
          "name": "stderr",
          "text": [
            "100%|██████████| 14560/14560 [04:35<00:00, 52.90it/s] \n"
          ]
        },
        {
          "output_type": "stream",
          "name": "stdout",
          "text": [
            "gdrive/My Drive/Datasets/Car_Images/trucks\n"
          ]
        },
        {
          "output_type": "stream",
          "name": "stderr",
          "text": [
            "100%|██████████| 14448/14448 [04:39<00:00, 51.62it/s] \n",
            "/usr/local/lib/python3.7/dist-packages/numpy/core/_asarray.py:136: VisibleDeprecationWarning: Creating an ndarray from ragged nested sequences (which is a list-or-tuple of lists-or-tuples-or ndarrays with different lengths or shapes) is deprecated. If you meant to do this, you must specify 'dtype=object' when creating the ndarray\n",
            "  return array(a, dtype, copy=False, order=order, subok=True)\n"
          ]
        },
        {
          "output_type": "stream",
          "name": "stdout",
          "text": [
            "\n",
            "sedan images: 14322\n",
            "coupe images: 14488\n",
            "suv images: 14560\n",
            "truck images: 14445\n",
            "total: 57815\n",
            "All done!\n"
          ]
        }
      ]
    },
    {
      "cell_type": "code",
      "source": [
        "#  checking dataset\n",
        "len(dataset)"
      ],
      "metadata": {
        "colab": {
          "base_uri": "https://localhost:8080/"
        },
        "id": "U9zphAtvRebk",
        "outputId": "0fa986ea-9d41-4862-930f-b3979b675406"
      },
      "execution_count": 6,
      "outputs": [
        {
          "output_type": "execute_result",
          "data": {
            "text/plain": [
              "57815"
            ]
          },
          "metadata": {},
          "execution_count": 6
        }
      ]
    },
    {
      "cell_type": "code",
      "source": [
        "#  Displaying random images\n",
        "figure, axes = plt.subplots(1,4, dpi=120, sharey=True)\n",
        "axes[0].imshow(dataset[2457][0])\n",
        "axes[1].imshow(dataset[1][0])\n",
        "axes[2].imshow(dataset[23967][0])\n",
        "axes[3].imshow(dataset[19929][0])"
      ],
      "metadata": {
        "colab": {
          "base_uri": "https://localhost:8080/",
          "height": 215
        },
        "id": "d08NekoRtSmT",
        "outputId": "32260062-54ac-4d64-fe83-3a49803012ed"
      },
      "execution_count": 7,
      "outputs": [
        {
          "output_type": "execute_result",
          "data": {
            "text/plain": [
              "<matplotlib.image.AxesImage at 0x7fc4cbb52050>"
            ]
          },
          "metadata": {},
          "execution_count": 7
        },
        {
          "output_type": "display_data",
          "data": {
            "image/png": "[encoded data removed]",
            "text/plain": [
              "<Figure size 720x480 with 4 Axes>"
            ]
          },
          "metadata": {
            "needs_background": "light"
          }
        }
      ]
    },
    {
      "cell_type": "code",
      "source": [
        "#  defining splitting function\n",
        "def train_val_split(dataset_to_split, val_pct):\n",
        "  #  deriving dataset length\n",
        "  number_of_instances = len(dataset_to_split)\n",
        "  #  deriving length of validattion set\n",
        "  val_idx = int(number_of_instances*val_pct)\n",
        "  #  deriving random permutations of the whole dataset\n",
        "  idx = list(np.random.permutation(number_of_instances))\n",
        "  return idx[:val_idx], idx[val_idx:]\n",
        "\n",
        "#  creating testing, validation and training indices\n",
        "test_indices, dataset_indices = train_val_split(dataset, 0.1)\n",
        "val_indices, train_indices = train_val_split(dataset_indices, 0.2)\n",
        "\n",
        "#  splitting into training, validation and test sets\n",
        "training_set = dataset[train_indices]\n",
        "validation_set = dataset[val_indices]\n",
        "test_set = dataset[test_indices]"
      ],
      "metadata": {
        "id": "QbtXwzWfittG"
      },
      "execution_count": 8,
      "outputs": []
    },
    {
      "cell_type": "code",
      "source": [
        "#  extending Dataset class\n",
        "class VehicleDataset(Dataset):\n",
        "  def __init__(self, loaded_dataset, transforms=None):\n",
        "    self.loaded_dataset = loaded_dataset\n",
        "    self.transforms = transforms\n",
        "\n",
        "  def __len__(self):\n",
        "    return len(self.loaded_dataset)\n",
        "  \n",
        "  def __getitem__(self, idx):\n",
        "    #  extracting image from index and scaling\n",
        "    image = self.loaded_dataset[idx][0]/255\n",
        "    #  extracting label from index\n",
        "    label = torch.tensor(int(self.loaded_dataset[idx][1]))\n",
        "    #  applying transforms if transforms are supplied\n",
        "    if self.transforms:\n",
        "      image = self.transforms(image)\n",
        "    return (image, label)"
      ],
      "metadata": {
        "id": "QgEXqN7gcixs"
      },
      "execution_count": 9,
      "outputs": []
    },
    {
      "cell_type": "code",
      "source": [
        "#  creating an instances of the dataset class\n",
        "train_ds = VehicleDataset(training_set, transforms=transforms.ToTensor())\n",
        "val_ds = VehicleDataset(validation_set, transforms=transforms.ToTensor())\n",
        "test_ds = VehicleDataset(test_set, transforms=transforms.ToTensor())\n",
        "\n",
        "#  creating dataloaders\n",
        "train_dl = DataLoader(train_ds, batch_size=400, shuffle=True) \n",
        "val_dl = DataLoader(val_ds, batch_size=400, shuffle=True)\n",
        "test_dl = DataLoader(test_ds, batch_size=400, shuffle=True)"
      ],
      "metadata": {
        "id": "KQPS_M4od0mX"
      },
      "execution_count": 27,
      "outputs": []
    },
    {
      "cell_type": "code",
      "source": [
        "#  building neural network\n",
        "class CarRecognition(nn.Module):\n",
        "  def __init__(self):\n",
        "    super().__init__()\n",
        "    self.conv1 = nn.Conv2d(3, 32, 3)\n",
        "    self.conv2 = nn.Conv2d(32, 32, 3)\n",
        "    self.conv3 = nn.Conv2d(32, 64, 3)\n",
        "    self.conv4 = nn.Conv2d(64, 64, 3)\n",
        "    self.conv5 = nn.Conv2d(64, 128, 3)\n",
        "    self.conv6 = nn.Conv2d(128, 128 ,3)\n",
        "    self.conv7 = nn.Conv2d(128, 128, 3)\n",
        "    self.fc1 = nn.Linear(2048, 514)\n",
        "    self.fc2 = nn.Linear(514, 128)\n",
        "    self.fc3 = nn.Linear(128, 4)\n",
        "    self.pool = nn.MaxPool2d(2,2)\n",
        "\n",
        "  def forward(self, x):\n",
        "    x = x.view(-1, 3, 75, 75).float()\n",
        "    x = F.relu(self.conv1(x))\n",
        "    x = self.pool(F.relu(self.conv2(x)))\n",
        "    x = F.relu(self.conv3(x))\n",
        "    x = self.pool(F.relu(self.conv4(x)))\n",
        "    x = F.relu(self.conv5(x))\n",
        "    x = F.relu(self.conv6(x))\n",
        "    x = self.pool(F.relu(self.conv7(x)))\n",
        "    x = torch.flatten(x,1)\n",
        "    x = F.relu(self.fc1(x))\n",
        "    x = F.relu(self.fc2(x))\n",
        "    x = F.relu(self.fc3(x))\n",
        "    return F.log_softmax(x, dim=1)"
      ],
      "metadata": {
        "id": "mbWA74UYtwH8"
      },
      "execution_count": 37,
      "outputs": []
    },
    {
      "cell_type": "code",
      "source": [
        "class CarRecognition_test(nn.Module):\n",
        "  def __init__(self):\n",
        "    super().__init__()\n",
        "    self.conv1 = nn.Conv2d(3, 32, 3)\n",
        "    self.conv2 = nn.Conv2d(32, 64, 3)\n",
        "    self.conv3 = nn.Conv2d(64, 128, 3)\n",
        "    self.fc1 = nn.Linear(6272, 514)\n",
        "    self.fc2 = nn.Linear(514, 128)\n",
        "    self.fc3 = nn.Linear(128, 4)\n",
        "    self.pool = nn.MaxPool2d(2,2)\n",
        "\n",
        "  def forward(self, x):\n",
        "    x = x.view(-1, 3, 75, 75).float()\n",
        "    x = self.pool(F.relu(self.conv1(x)))\n",
        "    x = self.pool(F.relu(self.conv2(x)))\n",
        "    x = self.pool(F.relu(self.conv3(x)))\n",
        "    x = torch.flatten(x,1)\n",
        "    x = F.relu(self.fc1(x))\n",
        "    x = F.relu(self.fc2(x))\n",
        "    x = F.relu(self.fc3(x))\n",
        "    return F.log_softmax(x, dim=1)"
      ],
      "metadata": {
        "id": "H9UU9BipBYUt"
      },
      "execution_count": 29,
      "outputs": []
    },
    {
      "cell_type": "code",
      "source": [
        "def accuracy(network, train_loader, verbose=False):\n",
        "  #  creating counter for correctly classified instances\n",
        "  correctly_classified = 0\n",
        "  #  creating counter for all instances\n",
        "  all_instances = 0\n",
        "  #  looping through every batch\n",
        "  for images, labels in tqdm_notebook(train_loader):\n",
        "    images, labels = images.to(device), labels.to(device)\n",
        "    #  classifying\n",
        "    outputs = network(images)\n",
        "    #  deriving the index of model prediction\n",
        "    predicted_labels = torch.argmax(outputs, dim=1)\n",
        "    #  comparing and counting the number of correct predictions\n",
        "    correct_labels = sum(predicted_labels==labels)\n",
        "    #  counting correct predictions\n",
        "    correctly_classified+=correct_labels.item()\n",
        "    #  counting all instances\n",
        "    all_instances+=len(labels)\n",
        "  if verbose:\n",
        "    return print(f'model predicts all instances to {(correctly_classified/all_instances)*100}% accuracy')\n",
        "  else:\n",
        "    return correctly_classified/all_instances"
      ],
      "metadata": {
        "id": "QTeOoCAIDNYW"
      },
      "execution_count": 13,
      "outputs": []
    },
    {
      "cell_type": "code",
      "source": [
        "def train_model(network, epochs, loss_function, opt, train_loader, val_loader):\n",
        "  #  creating a list to hold metrics\n",
        "  metric_log = []\n",
        "  for epoch in range(epochs):\n",
        "    print(f'\\nTraining Epoch {epoch+1}/{epochs}')\n",
        "    total_loss = 0\n",
        "    for images, labels in tqdm_notebook(train_loader):\n",
        "      #  sending to device\n",
        "      images, labels = images.to(device), labels.to(device)\n",
        "      #  resetting gradients\n",
        "      opt.zero_grad()\n",
        "      #  classifying\n",
        "      outputs = network(images)\n",
        "      #  computing loss\n",
        "      loss = loss_function(outputs, labels)\n",
        "      #  summing loss\n",
        "      total_loss+=loss.sum().item()\n",
        "      #  computing gradients\n",
        "      loss.backward()\n",
        "      #  optimizing\n",
        "      opt.step()\n",
        "    #  deriving training accuracy\n",
        "    with torch.no_grad():\n",
        "      print('Deriving training accuracy...')\n",
        "      train_accuracy = accuracy(network, train_loader)\n",
        "    #  deriving validation loss and accuracy\n",
        "    with torch.no_grad():\n",
        "      print('Deriving validation loss...')\n",
        "      total_val_loss = 0\n",
        "      for val_images, val_labels in tqdm_notebook(val_loader):\n",
        "        #  sending to device\n",
        "        val_images, val_labels = val_images.to(device), val_labels.to(device)\n",
        "        #  classifying\n",
        "        val_outputs = network(val_images)\n",
        "        #  computing loss\n",
        "        val_loss = loss_function(val_outputs, val_labels)\n",
        "        #  suming val_loss\n",
        "        total_val_loss+=val_loss.sum().item()\n",
        "      print('Deriving validation accuracy...')\n",
        "      #  computing accuracy\n",
        "      val_accuracy = accuracy(network, val_loader)\n",
        "    #  appending metrics to list\n",
        "    metric_log.append([epoch+1, total_loss, train_accuracy, total_val_loss, val_accuracy])\n",
        "    #  displaying results\n",
        "    print(f'Epoch: {epoch+1}/{epochs} Training_loss: {round(total_loss, 5)} Training_accuracy: {round(train_accuracy, 5)} Validation_loss: {round(total_val_loss, 5)} Validation_accuracy: {round(val_accuracy, 5)}')\n",
        "  np.save('metrics_log_custom_model.npy', metric_log)\n",
        "  np.savetxt(f'gdrive/My Drive/Neural Networks/Model_Metric_Logs/car_rec_model_{str(1)}.csv', np.array(metric_log))"
      ],
      "metadata": {
        "id": "9X0VtHoQ75yR"
      },
      "execution_count": 14,
      "outputs": []
    },
    {
      "cell_type": "code",
      "source": [
        "def train_model_dup(network, epochs, loss_function, opt, train_loader):\n",
        "  #  creating a list to hold metrics\n",
        "  metric_log = []\n",
        "  for epoch in range(epochs):\n",
        "    print(f'\\nTraining Epoch {epoch+1}/{epochs}')\n",
        "    total_loss = 0\n",
        "    for images, labels in tqdm_notebook(train_loader):\n",
        "      #  sending to device\n",
        "      images, labels = images.to(device), labels.to(device)\n",
        "      #  classifying\n",
        "      outputs = network(images)\n",
        "      #  computing loss\n",
        "      loss = loss_function(outputs, labels)\n",
        "      #  summing loss\n",
        "      total_loss+=loss.sum().item()\n",
        "      #  computing gradients\n",
        "      loss.backward()\n",
        "      #  optimizing\n",
        "      opt.step()\n",
        "      opt.zero_grad()\n",
        "    #  deriving training accuracy\n",
        "    print('Deriving training accuracy...')\n",
        "    train_accuracy = accuracy(network, train_loader)\n",
        "    #  displaying results\n",
        "    print(f'Epoch: {epoch+1}/{epochs} Training_loss: {round(total_loss, 5)} Training_accuracy: {round(train_accuracy, 5)}')"
      ],
      "metadata": {
        "id": "zHjXFT1GDViJ"
      },
      "execution_count": 15,
      "outputs": []
    },
    {
      "cell_type": "code",
      "source": [
        "for train_batch in train_dl:\n",
        "  print(len(train_batch))\n",
        "  break"
      ],
      "metadata": {
        "colab": {
          "base_uri": "https://localhost:8080/"
        },
        "id": "hR3jcPUbABsz",
        "outputId": "c971cc4a-c093-473e-9d49-e1a8c5951fcb"
      },
      "execution_count": 17,
      "outputs": [
        {
          "output_type": "stream",
          "name": "stdout",
          "text": [
            "2\n"
          ]
        }
      ]
    },
    {
      "cell_type": "code",
      "source": [
        "for val_batch in val_dl:\n",
        "  print(len(val_batch))\n",
        "  break"
      ],
      "metadata": {
        "colab": {
          "base_uri": "https://localhost:8080/"
        },
        "id": "06NR1-WSAQtp",
        "outputId": "50f728b7-5939-4dba-b6c7-82a5e6cf29e7"
      },
      "execution_count": 18,
      "outputs": [
        {
          "output_type": "stream",
          "name": "stdout",
          "text": [
            "2\n"
          ]
        }
      ]
    },
    {
      "cell_type": "code",
      "source": [
        "train_batch = [train_batch]\n",
        "val_batch = [val_batch]"
      ],
      "metadata": {
        "id": "pqsx4L5cAfL8"
      },
      "execution_count": 19,
      "outputs": []
    },
    {
      "cell_type": "code",
      "source": [
        "model = CarRecognition()\n",
        "model.to(device)\n",
        "\n",
        "model_sample = CarRecognition_test()\n",
        "model_sample.to(device)\n",
        "\n",
        "loss_fn = nn.NLLLoss()\n",
        "\n",
        "optimizer = torch.optim.SGD(model.parameters(), lr=1e-3)\n",
        "epochs = 10\n",
        "\n",
        "train_model(network=model, epochs=epochs, loss_function=loss_fn, \n",
        "            opt=optimizer, train_loader=train_dl, val_loader=val_dl)"
      ],
      "metadata": {
        "id": "1AGR5qzFSj3F"
      },
      "execution_count": null,
      "outputs": []
    },
    {
      "cell_type": "code",
      "source": [
        "#  saving model state\n",
        "torch.save(model.state_dict(), f'gdrive/My Drive/Neural Networks/Model_States/car_recognition_model_state_{str(1)}.pt')"
      ],
      "metadata": {
        "id": "m8qoVnXQqHPA"
      },
      "execution_count": 54,
      "outputs": []
    },
    {
      "cell_type": "code",
      "source": [
        "#  loading metric log\n",
        "metrics_log = np.load('metrics_log_custom_model.npy', allow_pickle=True)"
      ],
      "metadata": {
        "id": "T7U6hNXxIMqL"
      },
      "execution_count": 69,
      "outputs": []
    },
    {
      "cell_type": "code",
      "source": [
        "#  visualising metrics\n",
        "figure, axes = plt.subplots(2,1, dpi=120, sharex=True)\n",
        "axes[0,0].set_title('accuracy vs epoch')\n",
        "axes[0,0].ylabel('accuracy')\n",
        "axes[1,0].set_title('loss vs epoch')\n",
        "axes[1,0].ylabel('loss')\n",
        "axes[1,0].xlabel('epoch')\n",
        "\n",
        "sns.lineplot(x=metrics_log[:,0], y=metric_log[:,2], marker='o', label='training_accuracy', ax=axes[0,0])\n",
        "sns.lineplot(x=metrics_log[:,0], y=metric_log[:,4], marker='o', label='validation_accuracy', ax=axes[0,0])\n",
        "\n",
        "sns.lineplot(x=metrics_log[:,0], y=metric_log[:,1], marker='o', label='training_loss', ax=axes[1,0])\n",
        "sns.lineplot(x=metrics_log[:,0], y=metric_log[:,3], marker='o', label='validation_loss', ax=axes[1,0])"
      ],
      "metadata": {
        "colab": {
          "base_uri": "https://localhost:8080/",
          "height": 475
        },
        "id": "nBgtCdeBI85w",
        "outputId": "519e56a5-fba7-447d-de4c-340bf37f4616"
      },
      "execution_count": 73,
      "outputs": [
        {
          "output_type": "execute_result",
          "data": {
            "text/plain": [
              "<matplotlib.axes._subplots.AxesSubplot at 0x7f9124594550>"
            ]
          },
          "metadata": {},
          "execution_count": 73
        },
        {
          "output_type": "display_data",
          "data": {
            "image/png": "[encoded data removed]",
            "text/plain": [
              "<Figure size 720x480 with 1 Axes>"
            ]
          },
          "metadata": {
            "needs_background": "light"
          }
        }
      ]
    },
    {
      "cell_type": "code",
      "source": [
        "#  deriving test accuracy\n",
        "accuracy(model, test_dl, verbose=True)"
      ],
      "metadata": {
        "id": "rYL3Fl3NXZyB"
      },
      "execution_count": null,
      "outputs": []
    },
    {
      "cell_type": "code",
      "source": [
        "def extract_results(network, dataloader):\n",
        "  #  creating an empty list\n",
        "  results = []\n",
        "  labels = []\n",
        "  #  classification\n",
        "  with torch.no_grad():\n",
        "    for img, lb in tqdm(dataloader):\n",
        "      preds = network(img)\n",
        "      results.extend(preds.tolist())\n",
        "      labels.extend(lb.tolist())\n",
        "  df = pd.DataFrame({'predicted': results, 'labels': labels})\n",
        "  return df"
      ],
      "metadata": {
        "id": "NuSUwOtpZO8o"
      },
      "execution_count": null,
      "outputs": []
    },
    {
      "cell_type": "code",
      "source": [
        "#  extracting test results\n",
        "extraxt_results(model, test_dl)"
      ],
      "metadata": {
        "id": "8Mt76kGga-bI"
      },
      "execution_count": null,
      "outputs": []
    },
    {
      "cell_type": "code",
      "source": [
        "for img, lb in test_dl:\n",
        "  print(img.shape)\n",
        "  print(lb)\n",
        "  break"
      ],
      "metadata": {
        "colab": {
          "base_uri": "https://localhost:8080/"
        },
        "id": "qeZahsispGxQ",
        "outputId": "b087cefc-e6bc-4347-bedb-83b317cca9c3"
      },
      "execution_count": 56,
      "outputs": [
        {
          "output_type": "stream",
          "name": "stdout",
          "text": [
            "torch.Size([100, 3, 75, 75])\n",
            "tensor([0, 0, 3, 3, 3, 1, 0, 1, 3, 3, 3, 0, 1, 0, 2, 1, 3, 0, 1, 3, 0, 0, 2, 3,\n",
            "        0, 1, 2, 2, 3, 0, 2, 0, 3, 2, 3, 0, 0, 1, 0, 3, 2, 2, 2, 0, 0, 2, 1, 1,\n",
            "        3, 2, 0, 2, 1, 2, 2, 0, 3, 1, 0, 0, 0, 1, 1, 2, 0, 0, 1, 2, 3, 0, 3, 0,\n",
            "        0, 1, 2, 0, 3, 0, 0, 0, 0, 0, 1, 0, 3, 0, 0, 1, 2, 3, 3, 0, 0, 0, 1, 1,\n",
            "        2, 2, 2, 2])\n"
          ]
        }
      ]
    },
    {
      "cell_type": "code",
      "source": [
        "sum(torch.argmax(model(img.to(device)), dim=1)==lb.to(device))"
      ],
      "metadata": {
        "colab": {
          "base_uri": "https://localhost:8080/"
        },
        "id": "X2nqnxDuHL-Y",
        "outputId": "ff9ba16d-9f53-48ce-8ae1-5d68abed36c4"
      },
      "execution_count": 63,
      "outputs": [
        {
          "output_type": "execute_result",
          "data": {
            "text/plain": [
              "tensor(93, device='cuda:0')"
            ]
          },
          "metadata": {},
          "execution_count": 63
        }
      ]
    },
    {
      "cell_type": "code",
      "source": [
        "spam = [[1,2,3,4], [1,4,6,7]]\n",
        "np.savetxt('example.csv', np.array(spam), delimiter=',')"
      ],
      "metadata": {
        "id": "tB5QmY9TEGh3"
      },
      "execution_count": 99,
      "outputs": []
    },
    {
      "cell_type": "code",
      "source": [
        "import pandas as pd\n",
        "pd.read_csv('example.csv', header=None)"
      ],
      "metadata": {
        "colab": {
          "base_uri": "https://localhost:8080/",
          "height": 112
        },
        "id": "zTwCsI9mElgR",
        "outputId": "da50d00c-11b8-4374-b736-f693a1e76dec"
      },
      "execution_count": 102,
      "outputs": [
        {
          "output_type": "execute_result",
          "data": {
            "text/html": [
              "\n",
              "  <div id=\"df-cc869487-0f11-4e0b-83ad-498e3c4b844f\">\n",
              "    <div class=\"colab-df-container\">\n",
              "      <div>\n",
              "<style scoped>\n",
              "    .dataframe tbody tr th:only-of-type {\n",
              "        vertical-align: middle;\n",
              "    }\n",
              "\n",
              "    .dataframe tbody tr th {\n",
              "        vertical-align: top;\n",
              "    }\n",
              "\n",
              "    .dataframe thead th {\n",
              "        text-align: right;\n",
              "    }\n",
              "</style>\n",
              "<table border=\"1\" class=\"dataframe\">\n",
              "  <thead>\n",
              "    <tr style=\"text-align: right;\">\n",
              "      <th></th>\n",
              "      <th>0</th>\n",
              "      <th>1</th>\n",
              "      <th>2</th>\n",
              "      <th>3</th>\n",
              "    </tr>\n",
              "  </thead>\n",
              "  <tbody>\n",
              "    <tr>\n",
              "      <th>0</th>\n",
              "      <td>1.0</td>\n",
              "      <td>2.0</td>\n",
              "      <td>3.0</td>\n",
              "      <td>4.0</td>\n",
              "    </tr>\n",
              "    <tr>\n",
              "      <th>1</th>\n",
              "      <td>1.0</td>\n",
              "      <td>4.0</td>\n",
              "      <td>6.0</td>\n",
              "      <td>7.0</td>\n",
              "    </tr>\n",
              "  </tbody>\n",
              "</table>\n",
              "</div>\n",
              "      <button class=\"colab-df-convert\" onclick=\"convertToInteractive('df-cc869487-0f11-4e0b-83ad-498e3c4b844f')\"\n",
              "              title=\"Convert this dataframe to an interactive table.\"\n",
              "              style=\"display:none;\">\n",
              "        \n",
              "  <svg xmlns=\"http://www.w3.org/2000/svg\" height=\"24px\"viewBox=\"0 0 24 24\"\n",
              "       width=\"24px\">\n",
              "    <path d=\"M0 0h24v24H0V0z\" fill=\"none\"/>\n",
              "    <path d=\"M18.56 5.44l.94 2.06.94-2.06 2.06-.94-2.06-.94-.94-2.06-.94 2.06-2.06.94zm-11 1L8.5 8.5l.94-2.06 2.06-.94-2.06-.94L8.5 2.5l-.94 2.06-2.06.94zm10 10l.94 2.06.94-2.06 2.06-.94-2.06-.94-.94-2.06-.94 2.06-2.06.94z\"/><path d=\"M17.41 7.96l-1.37-1.37c-.4-.4-.92-.59-1.43-.59-.52 0-1.04.2-1.43.59L10.3 9.45l-7.72 7.72c-.78.78-.78 2.05 0 2.83L4 21.41c.39.39.9.59 1.41.59.51 0 1.02-.2 1.41-.59l7.78-7.78 2.81-2.81c.8-.78.8-2.07 0-2.86zM5.41 20L4 18.59l7.72-7.72 1.47 1.35L5.41 20z\"/>\n",
              "  </svg>\n",
              "      </button>\n",
              "      \n",
              "  <style>\n",
              "    .colab-df-container {\n",
              "      display:flex;\n",
              "      flex-wrap:wrap;\n",
              "      gap: 12px;\n",
              "    }\n",
              "\n",
              "    .colab-df-convert {\n",
              "      background-color: #E8F0FE;\n",
              "      border: none;\n",
              "      border-radius: 50%;\n",
              "      cursor: pointer;\n",
              "      display: none;\n",
              "      fill: #1967D2;\n",
              "      height: 32px;\n",
              "      padding: 0 0 0 0;\n",
              "      width: 32px;\n",
              "    }\n",
              "\n",
              "    .colab-df-convert:hover {\n",
              "      background-color: #E2EBFA;\n",
              "      box-shadow: 0px 1px 2px rgba(60, 64, 67, 0.3), 0px 1px 3px 1px rgba(60, 64, 67, 0.15);\n",
              "      fill: #174EA6;\n",
              "    }\n",
              "\n",
              "    [theme=dark] .colab-df-convert {\n",
              "      background-color: #3B4455;\n",
              "      fill: #D2E3FC;\n",
              "    }\n",
              "\n",
              "    [theme=dark] .colab-df-convert:hover {\n",
              "      background-color: #434B5C;\n",
              "      box-shadow: 0px 1px 3px 1px rgba(0, 0, 0, 0.15);\n",
              "      filter: drop-shadow(0px 1px 2px rgba(0, 0, 0, 0.3));\n",
              "      fill: #FFFFFF;\n",
              "    }\n",
              "  </style>\n",
              "\n",
              "      <script>\n",
              "        const buttonEl =\n",
              "          document.querySelector('#df-cc869487-0f11-4e0b-83ad-498e3c4b844f button.colab-df-convert');\n",
              "        buttonEl.style.display =\n",
              "          google.colab.kernel.accessAllowed ? 'block' : 'none';\n",
              "\n",
              "        async function convertToInteractive(key) {\n",
              "          const element = document.querySelector('#df-cc869487-0f11-4e0b-83ad-498e3c4b844f');\n",
              "          const dataTable =\n",
              "            await google.colab.kernel.invokeFunction('convertToInteractive',\n",
              "                                                     [key], {});\n",
              "          if (!dataTable) return;\n",
              "\n",
              "          const docLinkHtml = 'Like what you see? Visit the ' +\n",
              "            '<a target=\"_blank\" href=https://colab.research.google.com/notebooks/data_table.ipynb>data table notebook</a>'\n",
              "            + ' to learn more about interactive tables.';\n",
              "          element.innerHTML = '';\n",
              "          dataTable['output_type'] = 'display_data';\n",
              "          await google.colab.output.renderOutput(dataTable, element);\n",
              "          const docLink = document.createElement('div');\n",
              "          docLink.innerHTML = docLinkHtml;\n",
              "          element.appendChild(docLink);\n",
              "        }\n",
              "      </script>\n",
              "    </div>\n",
              "  </div>\n",
              "  "
            ],
            "text/plain": [
              "     0    1    2    3\n",
              "0  1.0  2.0  3.0  4.0\n",
              "1  1.0  4.0  6.0  7.0"
            ]
          },
          "metadata": {},
          "execution_count": 102
        }
      ]
    },
    {
      "cell_type": "code",
      "source": [
        "#model = models.resnet50()\n",
        "#model.to(device)"
      ],
      "metadata": {
        "id": "XJno4qHpqPuH"
      },
      "execution_count": null,
      "outputs": []
    }
  ]
}